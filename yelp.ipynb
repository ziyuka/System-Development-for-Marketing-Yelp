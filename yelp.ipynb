{
 "cells": [
  {
   "cell_type": "markdown",
   "metadata": {},
   "source": [
    "The Yelp Dataset is a valuable resource for academic research, teaching, and learning. It provides a rich collection of real-world data related to businesses, reviews, and user interactions. Here are the key details about the Yelp Dataset: Reviews: A whopping 6,990,280 reviews from users. Businesses: Information on 150,346 businesses. Pictures: A collection of 200,100 pictures. Metropolitan Areas: Data from 11 metropolitan areas. Tips: Over 908,915 tips provided by 1,987,897 users. Business Attributes: Details like hours, parking availability, and ambiance for more than 1.2 million businesses. Aggregated Check-ins: Historical check-in data for each of the 131,930 businesses.\n",
    "\n",
    "https://paperswithcode.com/dataset/yelp"
   ]
  },
  {
   "cell_type": "code",
   "execution_count": 81,
   "metadata": {},
   "outputs": [],
   "source": [
    "import pandas as pd\n",
    "import numpy as np\n",
    "import matplotlib as pyplot\n",
    "import os"
   ]
  },
  {
   "cell_type": "code",
   "execution_count": 82,
   "metadata": {},
   "outputs": [
    {
     "data": {
      "text/plain": [
       "'c:\\\\Users\\\\yunus\\\\Desktop\\\\MSc\\\\Digital Driven Business\\\\Subjects\\\\System Development for Marketing\\\\RecSys\\\\Datasets2\\\\Yelp'"
      ]
     },
     "execution_count": 82,
     "metadata": {},
     "output_type": "execute_result"
    }
   ],
   "source": [
    "os.getcwd()"
   ]
  },
  {
   "cell_type": "code",
   "execution_count": 83,
   "metadata": {},
   "outputs": [],
   "source": [
    "os.chdir(r'C:\\Users\\yunus\\Desktop\\MSc\\Digital Driven Business\\Subjects\\System Development for Marketing\\RecSys\\Datasets2\\Yelp')"
   ]
  },
  {
   "cell_type": "markdown",
   "metadata": {},
   "source": [
    "Loading JSON files `df1`, `df2` and `df3` into a DataFrame"
   ]
  },
  {
   "cell_type": "code",
   "execution_count": 84,
   "metadata": {},
   "outputs": [],
   "source": [
    "df1 = pd.read_json(\"yelp_academic_dataset_business.json\", lines=True)"
   ]
  },
  {
   "cell_type": "code",
   "execution_count": 85,
   "metadata": {},
   "outputs": [],
   "source": [
    "df2 = pd.read_json(\"yelp_academic_dataset_checkin.json\", lines=True)"
   ]
  },
  {
   "cell_type": "code",
   "execution_count": 86,
   "metadata": {},
   "outputs": [],
   "source": [
    "df3 = pd.read_json(\"yelp_academic_dataset_tip.json\", lines=True)"
   ]
  },
  {
   "cell_type": "markdown",
   "metadata": {},
   "source": [
    "## 1. Data visualization and Exploratory Data Analysis (EDA)"
   ]
  },
  {
   "cell_type": "markdown",
   "metadata": {},
   "source": [
    "The `.shape` attribute of a DataFrame `df1`, `df2` and `df3` provides the dimensions of the DataFrame, returning a tuple representing the number of rows followed by the number of columns"
   ]
  },
  {
   "cell_type": "code",
   "execution_count": 87,
   "metadata": {},
   "outputs": [
    {
     "data": {
      "text/plain": [
       "(150346, 14)"
      ]
     },
     "execution_count": 87,
     "metadata": {},
     "output_type": "execute_result"
    }
   ],
   "source": [
    "# Check df1 shape\n",
    "df1.shape"
   ]
  },
  {
   "cell_type": "code",
   "execution_count": 88,
   "metadata": {},
   "outputs": [
    {
     "data": {
      "text/plain": [
       "(131930, 2)"
      ]
     },
     "execution_count": 88,
     "metadata": {},
     "output_type": "execute_result"
    }
   ],
   "source": [
    "# Check df2 shape\n",
    "df2.shape"
   ]
  },
  {
   "cell_type": "code",
   "execution_count": 89,
   "metadata": {},
   "outputs": [
    {
     "data": {
      "text/plain": [
       "(908915, 5)"
      ]
     },
     "execution_count": 89,
     "metadata": {},
     "output_type": "execute_result"
    }
   ],
   "source": [
    "# Check df3 shape\n",
    "df3.shape"
   ]
  },
  {
   "cell_type": "code",
   "execution_count": 90,
   "metadata": {},
   "outputs": [
    {
     "data": {
      "text/plain": [
       "Index(['business_id', 'name', 'address', 'city', 'state', 'postal_code',\n",
       "       'latitude', 'longitude', 'stars', 'review_count', 'is_open',\n",
       "       'attributes', 'categories', 'hours'],\n",
       "      dtype='object')"
      ]
     },
     "execution_count": 90,
     "metadata": {},
     "output_type": "execute_result"
    }
   ],
   "source": [
    "df1.columns"
   ]
  },
  {
   "cell_type": "code",
   "execution_count": 91,
   "metadata": {},
   "outputs": [
    {
     "data": {
      "text/plain": [
       "Index(['business_id', 'date'], dtype='object')"
      ]
     },
     "execution_count": 91,
     "metadata": {},
     "output_type": "execute_result"
    }
   ],
   "source": [
    "df2.columns"
   ]
  },
  {
   "cell_type": "code",
   "execution_count": 92,
   "metadata": {},
   "outputs": [
    {
     "data": {
      "text/plain": [
       "Index(['user_id', 'business_id', 'text', 'date', 'compliment_count'], dtype='object')"
      ]
     },
     "execution_count": 92,
     "metadata": {},
     "output_type": "execute_result"
    }
   ],
   "source": [
    "df3.columns"
   ]
  },
  {
   "cell_type": "markdown",
   "metadata": {},
   "source": [
    "We've used chunksize for the remaining 2 JSON files, because the 'user' and 'review' datasets are ~ 3.2GB and 5.2GB which both are huge"
   ]
  },
  {
   "cell_type": "code",
   "execution_count": 93,
   "metadata": {},
   "outputs": [],
   "source": [
    "#chunk_size = 200000\n",
    "#chunks = pd.read_json(\"yelp_academic_dataset_user.json\", lines=True, chunksize=chunk_size)\n",
    "\n",
    "#for i, chunk in enumerate(chunks):\n",
    "#    print(f\"Processing Chunk {i+1}...\")"
   ]
  },
  {
   "cell_type": "markdown",
   "metadata": {},
   "source": [
    "Show the 1th chunk only. No need to go through the other chunks"
   ]
  },
  {
   "cell_type": "code",
   "execution_count": 94,
   "metadata": {},
   "outputs": [],
   "source": [
    "# chunk_size = 200000\n",
    "# Create an iterator to read the JSON file in chunks of the specified size\n",
    "# chunks = pd.read_json(\"yelp_academic_dataset_user.json\", lines=True, chunksize=chunk_size)\n",
    "\n",
    "# Retrieve the first chunk directly from the iterator\n",
    "# first_chunk_df = next(chunks)"
   ]
  },
  {
   "cell_type": "markdown",
   "metadata": {},
   "source": [
    "Using a loop to iterate through the chunks eventually to 2th "
   ]
  },
  {
   "cell_type": "code",
   "execution_count": 95,
   "metadata": {},
   "outputs": [],
   "source": [
    "chunk_size = 150000\n",
    "# Create an iterator to read the JSON file in chunks of the specified size\n",
    "chunks = pd.read_json(\"yelp_academic_dataset_user.json\", lines=True, chunksize=chunk_size)\n",
    "\n",
    "# Initialize a variable to store the second chunk\n",
    "second_chunk_df4 = None\n",
    "\n",
    "# Loop through the chunks until the second one is reached\n",
    "for i, chunk in enumerate(chunks, start=1):\n",
    "    if i == 2:  # Check if it's the second chunk\n",
    "        second_chunk_df4 = chunk\n",
    "        break  # Exit the loop once the second chunk is found"
   ]
  },
  {
   "cell_type": "code",
   "execution_count": 96,
   "metadata": {},
   "outputs": [],
   "source": [
    "chunk_size = 150000\n",
    "# Create an iterator to read the JSON file in chunks of the specified size\n",
    "chunks = pd.read_json(\"yelp_academic_dataset_review.json\", lines=True, chunksize=chunk_size)\n",
    "\n",
    "# Initialize a variable to store the second chunk\n",
    "second_chunk_df5 = None\n",
    "\n",
    "# Loop through the chunks until the second one is reached\n",
    "for i, chunk in enumerate(chunks, start=1):\n",
    "    if i == 2:  # Check if it's the second chunk\n",
    "        second_chunk_df5 = chunk\n",
    "        break  # Exit the loop once the second chunk is found"
   ]
  },
  {
   "cell_type": "code",
   "execution_count": 97,
   "metadata": {},
   "outputs": [
    {
     "data": {
      "text/plain": [
       "Index(['user_id', 'name', 'review_count', 'yelping_since', 'useful', 'funny',\n",
       "       'cool', 'elite', 'friends', 'fans', 'average_stars', 'compliment_hot',\n",
       "       'compliment_more', 'compliment_profile', 'compliment_cute',\n",
       "       'compliment_list', 'compliment_note', 'compliment_plain',\n",
       "       'compliment_cool', 'compliment_funny', 'compliment_writer',\n",
       "       'compliment_photos'],\n",
       "      dtype='object')"
      ]
     },
     "execution_count": 97,
     "metadata": {},
     "output_type": "execute_result"
    }
   ],
   "source": [
    "second_chunk_df4.columns"
   ]
  },
  {
   "cell_type": "code",
   "execution_count": 98,
   "metadata": {},
   "outputs": [
    {
     "data": {
      "text/plain": [
       "(150000, 22)"
      ]
     },
     "execution_count": 98,
     "metadata": {},
     "output_type": "execute_result"
    }
   ],
   "source": [
    "second_chunk_df4.shape"
   ]
  },
  {
   "cell_type": "code",
   "execution_count": 99,
   "metadata": {},
   "outputs": [
    {
     "data": {
      "text/plain": [
       "Index(['user_id', 'name', 'review_count', 'yelping_since', 'useful', 'funny',\n",
       "       'cool', 'elite', 'friends', 'fans', 'average_stars', 'compliment_hot',\n",
       "       'compliment_more', 'compliment_profile', 'compliment_cute',\n",
       "       'compliment_list', 'compliment_note', 'compliment_plain',\n",
       "       'compliment_cool', 'compliment_funny', 'compliment_writer',\n",
       "       'compliment_photos'],\n",
       "      dtype='object')"
      ]
     },
     "execution_count": 99,
     "metadata": {},
     "output_type": "execute_result"
    }
   ],
   "source": [
    "second_chunk_df4.columns"
   ]
  },
  {
   "cell_type": "code",
   "execution_count": 100,
   "metadata": {},
   "outputs": [
    {
     "data": {
      "text/plain": [
       "(150000, 9)"
      ]
     },
     "execution_count": 100,
     "metadata": {},
     "output_type": "execute_result"
    }
   ],
   "source": [
    "second_chunk_df5.shape"
   ]
  },
  {
   "cell_type": "markdown",
   "metadata": {},
   "source": [
    "## Display each DataFrame"
   ]
  },
  {
   "cell_type": "code",
   "execution_count": 101,
   "metadata": {},
   "outputs": [
    {
     "data": {
      "text/html": [
       "<div>\n",
       "<style scoped>\n",
       "    .dataframe tbody tr th:only-of-type {\n",
       "        vertical-align: middle;\n",
       "    }\n",
       "\n",
       "    .dataframe tbody tr th {\n",
       "        vertical-align: top;\n",
       "    }\n",
       "\n",
       "    .dataframe thead th {\n",
       "        text-align: right;\n",
       "    }\n",
       "</style>\n",
       "<table border=\"1\" class=\"dataframe\">\n",
       "  <thead>\n",
       "    <tr style=\"text-align: right;\">\n",
       "      <th></th>\n",
       "      <th>business_id</th>\n",
       "      <th>name</th>\n",
       "      <th>address</th>\n",
       "      <th>city</th>\n",
       "      <th>state</th>\n",
       "      <th>postal_code</th>\n",
       "      <th>latitude</th>\n",
       "      <th>longitude</th>\n",
       "      <th>stars</th>\n",
       "      <th>review_count</th>\n",
       "      <th>is_open</th>\n",
       "      <th>attributes</th>\n",
       "      <th>categories</th>\n",
       "      <th>hours</th>\n",
       "    </tr>\n",
       "  </thead>\n",
       "  <tbody>\n",
       "    <tr>\n",
       "      <th>0</th>\n",
       "      <td>Pns2l4eNsfO8kk83dixA6A</td>\n",
       "      <td>Abby Rappoport, LAC, CMQ</td>\n",
       "      <td>1616 Chapala St, Ste 2</td>\n",
       "      <td>Santa Barbara</td>\n",
       "      <td>CA</td>\n",
       "      <td>93101</td>\n",
       "      <td>34.426679</td>\n",
       "      <td>-119.711197</td>\n",
       "      <td>5.0</td>\n",
       "      <td>7</td>\n",
       "      <td>0</td>\n",
       "      <td>{'ByAppointmentOnly': 'True'}</td>\n",
       "      <td>Doctors, Traditional Chinese Medicine, Naturop...</td>\n",
       "      <td>None</td>\n",
       "    </tr>\n",
       "    <tr>\n",
       "      <th>1</th>\n",
       "      <td>mpf3x-BjTdTEA3yCZrAYPw</td>\n",
       "      <td>The UPS Store</td>\n",
       "      <td>87 Grasso Plaza Shopping Center</td>\n",
       "      <td>Affton</td>\n",
       "      <td>MO</td>\n",
       "      <td>63123</td>\n",
       "      <td>38.551126</td>\n",
       "      <td>-90.335695</td>\n",
       "      <td>3.0</td>\n",
       "      <td>15</td>\n",
       "      <td>1</td>\n",
       "      <td>{'BusinessAcceptsCreditCards': 'True'}</td>\n",
       "      <td>Shipping Centers, Local Services, Notaries, Ma...</td>\n",
       "      <td>{'Monday': '0:0-0:0', 'Tuesday': '8:0-18:30', ...</td>\n",
       "    </tr>\n",
       "    <tr>\n",
       "      <th>2</th>\n",
       "      <td>tUFrWirKiKi_TAnsVWINQQ</td>\n",
       "      <td>Target</td>\n",
       "      <td>5255 E Broadway Blvd</td>\n",
       "      <td>Tucson</td>\n",
       "      <td>AZ</td>\n",
       "      <td>85711</td>\n",
       "      <td>32.223236</td>\n",
       "      <td>-110.880452</td>\n",
       "      <td>3.5</td>\n",
       "      <td>22</td>\n",
       "      <td>0</td>\n",
       "      <td>{'BikeParking': 'True', 'BusinessAcceptsCredit...</td>\n",
       "      <td>Department Stores, Shopping, Fashion, Home &amp; G...</td>\n",
       "      <td>{'Monday': '8:0-22:0', 'Tuesday': '8:0-22:0', ...</td>\n",
       "    </tr>\n",
       "    <tr>\n",
       "      <th>3</th>\n",
       "      <td>MTSW4McQd7CbVtyjqoe9mw</td>\n",
       "      <td>St Honore Pastries</td>\n",
       "      <td>935 Race St</td>\n",
       "      <td>Philadelphia</td>\n",
       "      <td>PA</td>\n",
       "      <td>19107</td>\n",
       "      <td>39.955505</td>\n",
       "      <td>-75.155564</td>\n",
       "      <td>4.0</td>\n",
       "      <td>80</td>\n",
       "      <td>1</td>\n",
       "      <td>{'RestaurantsDelivery': 'False', 'OutdoorSeati...</td>\n",
       "      <td>Restaurants, Food, Bubble Tea, Coffee &amp; Tea, B...</td>\n",
       "      <td>{'Monday': '7:0-20:0', 'Tuesday': '7:0-20:0', ...</td>\n",
       "    </tr>\n",
       "    <tr>\n",
       "      <th>4</th>\n",
       "      <td>mWMc6_wTdE0EUBKIGXDVfA</td>\n",
       "      <td>Perkiomen Valley Brewery</td>\n",
       "      <td>101 Walnut St</td>\n",
       "      <td>Green Lane</td>\n",
       "      <td>PA</td>\n",
       "      <td>18054</td>\n",
       "      <td>40.338183</td>\n",
       "      <td>-75.471659</td>\n",
       "      <td>4.5</td>\n",
       "      <td>13</td>\n",
       "      <td>1</td>\n",
       "      <td>{'BusinessAcceptsCreditCards': 'True', 'Wheelc...</td>\n",
       "      <td>Brewpubs, Breweries, Food</td>\n",
       "      <td>{'Wednesday': '14:0-22:0', 'Thursday': '16:0-2...</td>\n",
       "    </tr>\n",
       "  </tbody>\n",
       "</table>\n",
       "</div>"
      ],
      "text/plain": [
       "              business_id                      name  \\\n",
       "0  Pns2l4eNsfO8kk83dixA6A  Abby Rappoport, LAC, CMQ   \n",
       "1  mpf3x-BjTdTEA3yCZrAYPw             The UPS Store   \n",
       "2  tUFrWirKiKi_TAnsVWINQQ                    Target   \n",
       "3  MTSW4McQd7CbVtyjqoe9mw        St Honore Pastries   \n",
       "4  mWMc6_wTdE0EUBKIGXDVfA  Perkiomen Valley Brewery   \n",
       "\n",
       "                           address           city state postal_code  \\\n",
       "0           1616 Chapala St, Ste 2  Santa Barbara    CA       93101   \n",
       "1  87 Grasso Plaza Shopping Center         Affton    MO       63123   \n",
       "2             5255 E Broadway Blvd         Tucson    AZ       85711   \n",
       "3                      935 Race St   Philadelphia    PA       19107   \n",
       "4                    101 Walnut St     Green Lane    PA       18054   \n",
       "\n",
       "    latitude   longitude  stars  review_count  is_open  \\\n",
       "0  34.426679 -119.711197    5.0             7        0   \n",
       "1  38.551126  -90.335695    3.0            15        1   \n",
       "2  32.223236 -110.880452    3.5            22        0   \n",
       "3  39.955505  -75.155564    4.0            80        1   \n",
       "4  40.338183  -75.471659    4.5            13        1   \n",
       "\n",
       "                                          attributes  \\\n",
       "0                      {'ByAppointmentOnly': 'True'}   \n",
       "1             {'BusinessAcceptsCreditCards': 'True'}   \n",
       "2  {'BikeParking': 'True', 'BusinessAcceptsCredit...   \n",
       "3  {'RestaurantsDelivery': 'False', 'OutdoorSeati...   \n",
       "4  {'BusinessAcceptsCreditCards': 'True', 'Wheelc...   \n",
       "\n",
       "                                          categories  \\\n",
       "0  Doctors, Traditional Chinese Medicine, Naturop...   \n",
       "1  Shipping Centers, Local Services, Notaries, Ma...   \n",
       "2  Department Stores, Shopping, Fashion, Home & G...   \n",
       "3  Restaurants, Food, Bubble Tea, Coffee & Tea, B...   \n",
       "4                          Brewpubs, Breweries, Food   \n",
       "\n",
       "                                               hours  \n",
       "0                                               None  \n",
       "1  {'Monday': '0:0-0:0', 'Tuesday': '8:0-18:30', ...  \n",
       "2  {'Monday': '8:0-22:0', 'Tuesday': '8:0-22:0', ...  \n",
       "3  {'Monday': '7:0-20:0', 'Tuesday': '7:0-20:0', ...  \n",
       "4  {'Wednesday': '14:0-22:0', 'Thursday': '16:0-2...  "
      ]
     },
     "execution_count": 101,
     "metadata": {},
     "output_type": "execute_result"
    }
   ],
   "source": [
    "df1.head()"
   ]
  },
  {
   "cell_type": "markdown",
   "metadata": {},
   "source": [
    "- business_id: The unique identifier for the business\n",
    "- name: The name of the business\n",
    "- address: The street address of the business\n",
    "- city: The city where the business is located\n",
    "- state: The state in which the business is situated\n",
    "- postal_code: The postal code for the location\n",
    "- latitude: The latitude coordinate of the business location\n",
    "- longitude: The longitude coordinate of the business location\n",
    "- stars: The average rating of the business, on a scale of 1 to 5 stars\n",
    "- review_count: The number of reviews the business has received\n",
    "- is_open: Indicates whether the business is currently open (1) or closed (0)\n",
    "- attributes: Any additional attributes of the business\n",
    "- categories: The categories the business falls under\n",
    "- hours: The operating hours of the business"
   ]
  },
  {
   "cell_type": "code",
   "execution_count": 117,
   "metadata": {},
   "outputs": [
    {
     "data": {
      "text/plain": [
       "83160"
      ]
     },
     "execution_count": 117,
     "metadata": {},
     "output_type": "execute_result"
    }
   ],
   "source": [
    "nunique_df1_categories = df1['categories'].nunique()\n",
    "nunique_df1_categories"
   ]
  },
  {
   "cell_type": "code",
   "execution_count": 126,
   "metadata": {},
   "outputs": [
    {
     "data": {
      "text/plain": [
       "categories\n",
       "Beauty & Spas, Nail Salons                                                                                       1012\n",
       "Restaurants, Pizza                                                                                                935\n",
       "Nail Salons, Beauty & Spas                                                                                        934\n",
       "Pizza, Restaurants                                                                                                823\n",
       "Restaurants, Mexican                                                                                              728\n",
       "                                                                                                                 ... \n",
       "Dermatologists, Health & Medical, Cosmetic Surgeons, Doctors, Acne Treatment, Skin Care, Beauty & Spas              1\n",
       "Home Services, Home & Garden, Nurseries & Gardening, Hardware Stores, Shopping, Building Supplies, Appliances       1\n",
       "Food Trucks, Smokehouse, Restaurants, Food, Barbeque, Soul Food, Food Stands                                        1\n",
       "Assisted Living Facilities, Memory Care, Health & Medical, Hospice                                                  1\n",
       "Beauty & Spas, Permanent Makeup, Piercing, Tattoo                                                                   1\n",
       "Name: count, Length: 83160, dtype: int64"
      ]
     },
     "execution_count": 126,
     "metadata": {},
     "output_type": "execute_result"
    }
   ],
   "source": [
    "top_10_df1_categories = df1['categories'].value_counts()\n",
    "top_10_df1_categories"
   ]
  },
  {
   "cell_type": "code",
   "execution_count": 103,
   "metadata": {},
   "outputs": [
    {
     "data": {
      "text/html": [
       "<div>\n",
       "<style scoped>\n",
       "    .dataframe tbody tr th:only-of-type {\n",
       "        vertical-align: middle;\n",
       "    }\n",
       "\n",
       "    .dataframe tbody tr th {\n",
       "        vertical-align: top;\n",
       "    }\n",
       "\n",
       "    .dataframe thead th {\n",
       "        text-align: right;\n",
       "    }\n",
       "</style>\n",
       "<table border=\"1\" class=\"dataframe\">\n",
       "  <thead>\n",
       "    <tr style=\"text-align: right;\">\n",
       "      <th></th>\n",
       "      <th>business_id</th>\n",
       "      <th>date</th>\n",
       "    </tr>\n",
       "  </thead>\n",
       "  <tbody>\n",
       "    <tr>\n",
       "      <th>0</th>\n",
       "      <td>---kPU91CF4Lq2-WlRu9Lw</td>\n",
       "      <td>2020-03-13 21:10:56, 2020-06-02 22:18:06, 2020...</td>\n",
       "    </tr>\n",
       "    <tr>\n",
       "      <th>1</th>\n",
       "      <td>--0iUa4sNDFiZFrAdIWhZQ</td>\n",
       "      <td>2010-09-13 21:43:09, 2011-05-04 23:08:15, 2011...</td>\n",
       "    </tr>\n",
       "    <tr>\n",
       "      <th>2</th>\n",
       "      <td>--30_8IhuyMHbSOcNWd6DQ</td>\n",
       "      <td>2013-06-14 23:29:17, 2014-08-13 23:20:22</td>\n",
       "    </tr>\n",
       "    <tr>\n",
       "      <th>3</th>\n",
       "      <td>--7PUidqRWpRSpXebiyxTg</td>\n",
       "      <td>2011-02-15 17:12:00, 2011-07-28 02:46:10, 2012...</td>\n",
       "    </tr>\n",
       "    <tr>\n",
       "      <th>4</th>\n",
       "      <td>--7jw19RH9JKXgFohspgQw</td>\n",
       "      <td>2014-04-21 20:42:11, 2014-04-28 21:04:46, 2014...</td>\n",
       "    </tr>\n",
       "  </tbody>\n",
       "</table>\n",
       "</div>"
      ],
      "text/plain": [
       "              business_id                                               date\n",
       "0  ---kPU91CF4Lq2-WlRu9Lw  2020-03-13 21:10:56, 2020-06-02 22:18:06, 2020...\n",
       "1  --0iUa4sNDFiZFrAdIWhZQ  2010-09-13 21:43:09, 2011-05-04 23:08:15, 2011...\n",
       "2  --30_8IhuyMHbSOcNWd6DQ           2013-06-14 23:29:17, 2014-08-13 23:20:22\n",
       "3  --7PUidqRWpRSpXebiyxTg  2011-02-15 17:12:00, 2011-07-28 02:46:10, 2012...\n",
       "4  --7jw19RH9JKXgFohspgQw  2014-04-21 20:42:11, 2014-04-28 21:04:46, 2014..."
      ]
     },
     "execution_count": 103,
     "metadata": {},
     "output_type": "execute_result"
    }
   ],
   "source": [
    "df2.head()"
   ]
  },
  {
   "cell_type": "markdown",
   "metadata": {},
   "source": [
    "- business_id: The unique identifier for the business\n",
    "- date: A list of timestamps indicating specific dates and times"
   ]
  },
  {
   "cell_type": "code",
   "execution_count": 104,
   "metadata": {},
   "outputs": [
    {
     "data": {
      "text/html": [
       "<div>\n",
       "<style scoped>\n",
       "    .dataframe tbody tr th:only-of-type {\n",
       "        vertical-align: middle;\n",
       "    }\n",
       "\n",
       "    .dataframe tbody tr th {\n",
       "        vertical-align: top;\n",
       "    }\n",
       "\n",
       "    .dataframe thead th {\n",
       "        text-align: right;\n",
       "    }\n",
       "</style>\n",
       "<table border=\"1\" class=\"dataframe\">\n",
       "  <thead>\n",
       "    <tr style=\"text-align: right;\">\n",
       "      <th></th>\n",
       "      <th>user_id</th>\n",
       "      <th>business_id</th>\n",
       "      <th>text</th>\n",
       "      <th>date</th>\n",
       "      <th>compliment_count</th>\n",
       "    </tr>\n",
       "  </thead>\n",
       "  <tbody>\n",
       "    <tr>\n",
       "      <th>0</th>\n",
       "      <td>AGNUgVwnZUey3gcPCJ76iw</td>\n",
       "      <td>3uLgwr0qeCNMjKenHJwPGQ</td>\n",
       "      <td>Avengers time with the ladies.</td>\n",
       "      <td>2012-05-18 02:17:21</td>\n",
       "      <td>0</td>\n",
       "    </tr>\n",
       "    <tr>\n",
       "      <th>1</th>\n",
       "      <td>NBN4MgHP9D3cw--SnauTkA</td>\n",
       "      <td>QoezRbYQncpRqyrLH6Iqjg</td>\n",
       "      <td>They have lots of good deserts and tasty cuban...</td>\n",
       "      <td>2013-02-05 18:35:10</td>\n",
       "      <td>0</td>\n",
       "    </tr>\n",
       "    <tr>\n",
       "      <th>2</th>\n",
       "      <td>-copOvldyKh1qr-vzkDEvw</td>\n",
       "      <td>MYoRNLb5chwjQe3c_k37Gg</td>\n",
       "      <td>It's open even when you think it isn't</td>\n",
       "      <td>2013-08-18 00:56:08</td>\n",
       "      <td>0</td>\n",
       "    </tr>\n",
       "    <tr>\n",
       "      <th>3</th>\n",
       "      <td>FjMQVZjSqY8syIO-53KFKw</td>\n",
       "      <td>hV-bABTK-glh5wj31ps_Jw</td>\n",
       "      <td>Very decent fried chicken</td>\n",
       "      <td>2017-06-27 23:05:38</td>\n",
       "      <td>0</td>\n",
       "    </tr>\n",
       "    <tr>\n",
       "      <th>4</th>\n",
       "      <td>ld0AperBXk1h6UbqmM80zw</td>\n",
       "      <td>_uN0OudeJ3Zl_tf6nxg5ww</td>\n",
       "      <td>Appetizers.. platter special for lunch</td>\n",
       "      <td>2012-10-06 19:43:09</td>\n",
       "      <td>0</td>\n",
       "    </tr>\n",
       "  </tbody>\n",
       "</table>\n",
       "</div>"
      ],
      "text/plain": [
       "                  user_id             business_id  \\\n",
       "0  AGNUgVwnZUey3gcPCJ76iw  3uLgwr0qeCNMjKenHJwPGQ   \n",
       "1  NBN4MgHP9D3cw--SnauTkA  QoezRbYQncpRqyrLH6Iqjg   \n",
       "2  -copOvldyKh1qr-vzkDEvw  MYoRNLb5chwjQe3c_k37Gg   \n",
       "3  FjMQVZjSqY8syIO-53KFKw  hV-bABTK-glh5wj31ps_Jw   \n",
       "4  ld0AperBXk1h6UbqmM80zw  _uN0OudeJ3Zl_tf6nxg5ww   \n",
       "\n",
       "                                                text                date  \\\n",
       "0                     Avengers time with the ladies. 2012-05-18 02:17:21   \n",
       "1  They have lots of good deserts and tasty cuban... 2013-02-05 18:35:10   \n",
       "2             It's open even when you think it isn't 2013-08-18 00:56:08   \n",
       "3                          Very decent fried chicken 2017-06-27 23:05:38   \n",
       "4             Appetizers.. platter special for lunch 2012-10-06 19:43:09   \n",
       "\n",
       "   compliment_count  \n",
       "0                 0  \n",
       "1                 0  \n",
       "2                 0  \n",
       "3                 0  \n",
       "4                 0  "
      ]
     },
     "execution_count": 104,
     "metadata": {},
     "output_type": "execute_result"
    }
   ],
   "source": [
    "df3.head()"
   ]
  },
  {
   "cell_type": "markdown",
   "metadata": {},
   "source": [
    "- user_id: The unique identifier for the user\n",
    "- business_id: The unique identifier for the business\n",
    "- text: The text of the review or comment left by the user\n",
    "- date: The timestamp when the review or comment was made\n",
    "- compliment_count: The number of compliments the review or comment has received from other users"
   ]
  },
  {
   "cell_type": "markdown",
   "metadata": {},
   "source": [
    "The `.shape` attribute of a DataFrame `second_chunk_df4` and `second_chunk_df5` provides the dimensions of the DataFrame, returning a tuple representing the number of rows followed by the number of columns. Since we took a chunk of `second_chunk_df4` & `second_chunk_df5` we know both columns consists of 200.000 rows. "
   ]
  },
  {
   "cell_type": "code",
   "execution_count": 105,
   "metadata": {},
   "outputs": [
    {
     "data": {
      "text/html": [
       "<div>\n",
       "<style scoped>\n",
       "    .dataframe tbody tr th:only-of-type {\n",
       "        vertical-align: middle;\n",
       "    }\n",
       "\n",
       "    .dataframe tbody tr th {\n",
       "        vertical-align: top;\n",
       "    }\n",
       "\n",
       "    .dataframe thead th {\n",
       "        text-align: right;\n",
       "    }\n",
       "</style>\n",
       "<table border=\"1\" class=\"dataframe\">\n",
       "  <thead>\n",
       "    <tr style=\"text-align: right;\">\n",
       "      <th></th>\n",
       "      <th>user_id</th>\n",
       "      <th>name</th>\n",
       "      <th>review_count</th>\n",
       "      <th>yelping_since</th>\n",
       "      <th>useful</th>\n",
       "      <th>funny</th>\n",
       "      <th>cool</th>\n",
       "      <th>elite</th>\n",
       "      <th>friends</th>\n",
       "      <th>fans</th>\n",
       "      <th>...</th>\n",
       "      <th>compliment_more</th>\n",
       "      <th>compliment_profile</th>\n",
       "      <th>compliment_cute</th>\n",
       "      <th>compliment_list</th>\n",
       "      <th>compliment_note</th>\n",
       "      <th>compliment_plain</th>\n",
       "      <th>compliment_cool</th>\n",
       "      <th>compliment_funny</th>\n",
       "      <th>compliment_writer</th>\n",
       "      <th>compliment_photos</th>\n",
       "    </tr>\n",
       "  </thead>\n",
       "  <tbody>\n",
       "    <tr>\n",
       "      <th>150000</th>\n",
       "      <td>2iWMCiIIH1TTu_3FTy1nzg</td>\n",
       "      <td>Rick</td>\n",
       "      <td>11</td>\n",
       "      <td>2013-04-09 15:52:01</td>\n",
       "      <td>32</td>\n",
       "      <td>3</td>\n",
       "      <td>1</td>\n",
       "      <td></td>\n",
       "      <td>None</td>\n",
       "      <td>0</td>\n",
       "      <td>...</td>\n",
       "      <td>0</td>\n",
       "      <td>0</td>\n",
       "      <td>0</td>\n",
       "      <td>0</td>\n",
       "      <td>0</td>\n",
       "      <td>0</td>\n",
       "      <td>0</td>\n",
       "      <td>0</td>\n",
       "      <td>0</td>\n",
       "      <td>0</td>\n",
       "    </tr>\n",
       "    <tr>\n",
       "      <th>150001</th>\n",
       "      <td>R7SN0aR-fyOkaHIYHZlbUQ</td>\n",
       "      <td>Kathy</td>\n",
       "      <td>13</td>\n",
       "      <td>2013-04-02 22:07:24</td>\n",
       "      <td>16</td>\n",
       "      <td>1</td>\n",
       "      <td>1</td>\n",
       "      <td></td>\n",
       "      <td>None</td>\n",
       "      <td>0</td>\n",
       "      <td>...</td>\n",
       "      <td>0</td>\n",
       "      <td>0</td>\n",
       "      <td>0</td>\n",
       "      <td>0</td>\n",
       "      <td>0</td>\n",
       "      <td>0</td>\n",
       "      <td>0</td>\n",
       "      <td>0</td>\n",
       "      <td>0</td>\n",
       "      <td>0</td>\n",
       "    </tr>\n",
       "    <tr>\n",
       "      <th>150002</th>\n",
       "      <td>UH4UvNqQp7G7NCwWEEQ2QA</td>\n",
       "      <td>Allison</td>\n",
       "      <td>9</td>\n",
       "      <td>2012-12-14 05:30:26</td>\n",
       "      <td>3</td>\n",
       "      <td>0</td>\n",
       "      <td>0</td>\n",
       "      <td></td>\n",
       "      <td>None</td>\n",
       "      <td>0</td>\n",
       "      <td>...</td>\n",
       "      <td>0</td>\n",
       "      <td>0</td>\n",
       "      <td>0</td>\n",
       "      <td>0</td>\n",
       "      <td>0</td>\n",
       "      <td>0</td>\n",
       "      <td>0</td>\n",
       "      <td>0</td>\n",
       "      <td>0</td>\n",
       "      <td>0</td>\n",
       "    </tr>\n",
       "    <tr>\n",
       "      <th>150003</th>\n",
       "      <td>0oGjOQzajgn9dXaXSyvLqQ</td>\n",
       "      <td>Paula</td>\n",
       "      <td>1</td>\n",
       "      <td>2015-06-14 16:04:25</td>\n",
       "      <td>0</td>\n",
       "      <td>0</td>\n",
       "      <td>0</td>\n",
       "      <td></td>\n",
       "      <td>None</td>\n",
       "      <td>0</td>\n",
       "      <td>...</td>\n",
       "      <td>0</td>\n",
       "      <td>0</td>\n",
       "      <td>0</td>\n",
       "      <td>0</td>\n",
       "      <td>0</td>\n",
       "      <td>0</td>\n",
       "      <td>0</td>\n",
       "      <td>0</td>\n",
       "      <td>0</td>\n",
       "      <td>0</td>\n",
       "    </tr>\n",
       "    <tr>\n",
       "      <th>150004</th>\n",
       "      <td>QfTWh_GVsTGF0tLFQCeNCg</td>\n",
       "      <td>Joanna</td>\n",
       "      <td>14</td>\n",
       "      <td>2014-07-20 20:47:32</td>\n",
       "      <td>9</td>\n",
       "      <td>3</td>\n",
       "      <td>2</td>\n",
       "      <td></td>\n",
       "      <td>None</td>\n",
       "      <td>0</td>\n",
       "      <td>...</td>\n",
       "      <td>0</td>\n",
       "      <td>0</td>\n",
       "      <td>0</td>\n",
       "      <td>0</td>\n",
       "      <td>0</td>\n",
       "      <td>0</td>\n",
       "      <td>1</td>\n",
       "      <td>1</td>\n",
       "      <td>0</td>\n",
       "      <td>0</td>\n",
       "    </tr>\n",
       "  </tbody>\n",
       "</table>\n",
       "<p>5 rows × 22 columns</p>\n",
       "</div>"
      ],
      "text/plain": [
       "                       user_id     name  review_count        yelping_since  \\\n",
       "150000  2iWMCiIIH1TTu_3FTy1nzg     Rick            11  2013-04-09 15:52:01   \n",
       "150001  R7SN0aR-fyOkaHIYHZlbUQ    Kathy            13  2013-04-02 22:07:24   \n",
       "150002  UH4UvNqQp7G7NCwWEEQ2QA  Allison             9  2012-12-14 05:30:26   \n",
       "150003  0oGjOQzajgn9dXaXSyvLqQ    Paula             1  2015-06-14 16:04:25   \n",
       "150004  QfTWh_GVsTGF0tLFQCeNCg   Joanna            14  2014-07-20 20:47:32   \n",
       "\n",
       "        useful  funny  cool elite friends  fans  ...  compliment_more  \\\n",
       "150000      32      3     1          None     0  ...                0   \n",
       "150001      16      1     1          None     0  ...                0   \n",
       "150002       3      0     0          None     0  ...                0   \n",
       "150003       0      0     0          None     0  ...                0   \n",
       "150004       9      3     2          None     0  ...                0   \n",
       "\n",
       "        compliment_profile  compliment_cute  compliment_list  compliment_note  \\\n",
       "150000                   0                0                0                0   \n",
       "150001                   0                0                0                0   \n",
       "150002                   0                0                0                0   \n",
       "150003                   0                0                0                0   \n",
       "150004                   0                0                0                0   \n",
       "\n",
       "        compliment_plain  compliment_cool  compliment_funny  \\\n",
       "150000                 0                0                 0   \n",
       "150001                 0                0                 0   \n",
       "150002                 0                0                 0   \n",
       "150003                 0                0                 0   \n",
       "150004                 0                1                 1   \n",
       "\n",
       "        compliment_writer  compliment_photos  \n",
       "150000                  0                  0  \n",
       "150001                  0                  0  \n",
       "150002                  0                  0  \n",
       "150003                  0                  0  \n",
       "150004                  0                  0  \n",
       "\n",
       "[5 rows x 22 columns]"
      ]
     },
     "execution_count": 105,
     "metadata": {},
     "output_type": "execute_result"
    }
   ],
   "source": [
    "second_chunk_df4.head()"
   ]
  },
  {
   "cell_type": "markdown",
   "metadata": {},
   "source": [
    "- user_id: The unique identifier assigned to the user \n",
    "- name: The name of the user\n",
    "- review_count: The total number of reviews the user has written\n",
    "- yelping_since: The date when the user joined or started yelping\n",
    "- useful: The number of times the user's reviews have been marked as useful by others\n",
    "- funny: The number of times the user's reviews have been marked as funny\n",
    "- cool: The number of times the user's reviews have been marked as cool\n",
    "- elite: Indicates the years the user was recognized as 'elite' on the platform\n",
    "- friends: The number of friends the user has on the platform\n",
    "- fans: The number of users who are fans of this particular user\n",
    "- compliment_more: Additional compliments not specified by other categories.\n",
    "- compliment_profile: Compliments received for the user's profile.\n",
    "- compliment_cute: Compliments received for being cute.\n",
    "- compliment_list: Compliments received for lists the user has created.\n",
    "- compliment_note: Compliments received for notes or messages left by the user.\n",
    "- compliment_plain: Compliments received for plain text reviews.\n",
    "- compliment_cool: Compliments received for cool reviews.\n",
    "- compliment_funny: Compliments received for funny reviews.\n",
    "- compliment_writer: Compliments received for the user's writing ability.\n",
    "- compliment_photos: Compliments received for photos the user has posted"
   ]
  },
  {
   "cell_type": "code",
   "execution_count": 106,
   "metadata": {},
   "outputs": [
    {
     "data": {
      "text/html": [
       "<div>\n",
       "<style scoped>\n",
       "    .dataframe tbody tr th:only-of-type {\n",
       "        vertical-align: middle;\n",
       "    }\n",
       "\n",
       "    .dataframe tbody tr th {\n",
       "        vertical-align: top;\n",
       "    }\n",
       "\n",
       "    .dataframe thead th {\n",
       "        text-align: right;\n",
       "    }\n",
       "</style>\n",
       "<table border=\"1\" class=\"dataframe\">\n",
       "  <thead>\n",
       "    <tr style=\"text-align: right;\">\n",
       "      <th></th>\n",
       "      <th>review_id</th>\n",
       "      <th>user_id</th>\n",
       "      <th>business_id</th>\n",
       "      <th>stars</th>\n",
       "      <th>useful</th>\n",
       "      <th>funny</th>\n",
       "      <th>cool</th>\n",
       "      <th>text</th>\n",
       "      <th>date</th>\n",
       "    </tr>\n",
       "  </thead>\n",
       "  <tbody>\n",
       "    <tr>\n",
       "      <th>150000</th>\n",
       "      <td>EGur4Zepuqb0EHiI9PsMuQ</td>\n",
       "      <td>5l83SrNyEylo5AhHM2dv9Q</td>\n",
       "      <td>vUrTGX_7HxqeoQ_6QCVz6g</td>\n",
       "      <td>5</td>\n",
       "      <td>0</td>\n",
       "      <td>0</td>\n",
       "      <td>0</td>\n",
       "      <td>Awesome for Philly to have such a delicious an...</td>\n",
       "      <td>2018-01-28 20:32:57</td>\n",
       "    </tr>\n",
       "    <tr>\n",
       "      <th>150001</th>\n",
       "      <td>pVrDxVf2gr4i90DcpxSu7A</td>\n",
       "      <td>wXdbkFZsfDR7utJvbWElyA</td>\n",
       "      <td>XX2PSfT4xuHq0yuoPIge1A</td>\n",
       "      <td>5</td>\n",
       "      <td>0</td>\n",
       "      <td>0</td>\n",
       "      <td>0</td>\n",
       "      <td>This is the third of the 5 local (soon to be 6...</td>\n",
       "      <td>2018-03-03 11:15:52</td>\n",
       "    </tr>\n",
       "    <tr>\n",
       "      <th>150002</th>\n",
       "      <td>tkrD0V2SPAUi7BGBJ5cCZA</td>\n",
       "      <td>QWbqFXj_Tx_tc98AFTYkQA</td>\n",
       "      <td>CKgsvMxnFVoph6IluQevWg</td>\n",
       "      <td>5</td>\n",
       "      <td>0</td>\n",
       "      <td>0</td>\n",
       "      <td>0</td>\n",
       "      <td>I am from New York. The hand tossed pizza at M...</td>\n",
       "      <td>2016-02-08 04:33:32</td>\n",
       "    </tr>\n",
       "    <tr>\n",
       "      <th>150003</th>\n",
       "      <td>yRVOJluGeb5sBnCXN0K80A</td>\n",
       "      <td>w7oU_1aKc1rluXIOhtV2wA</td>\n",
       "      <td>tQ6VNQ9ezkxRE4bvu9WShQ</td>\n",
       "      <td>1</td>\n",
       "      <td>0</td>\n",
       "      <td>0</td>\n",
       "      <td>0</td>\n",
       "      <td>We were greeted fast.  It went downhill from t...</td>\n",
       "      <td>2014-07-23 02:30:52</td>\n",
       "    </tr>\n",
       "    <tr>\n",
       "      <th>150004</th>\n",
       "      <td>8xz9wueeuC6rVgDorKoUOA</td>\n",
       "      <td>GXfHd3ZuJZ8E7YYwD0cyUg</td>\n",
       "      <td>JUlsvVAvZvGHWFfkKm0nlg</td>\n",
       "      <td>5</td>\n",
       "      <td>3</td>\n",
       "      <td>0</td>\n",
       "      <td>2</td>\n",
       "      <td>This restaurant is located right across from P...</td>\n",
       "      <td>2016-02-06 23:27:30</td>\n",
       "    </tr>\n",
       "  </tbody>\n",
       "</table>\n",
       "</div>"
      ],
      "text/plain": [
       "                     review_id                 user_id  \\\n",
       "150000  EGur4Zepuqb0EHiI9PsMuQ  5l83SrNyEylo5AhHM2dv9Q   \n",
       "150001  pVrDxVf2gr4i90DcpxSu7A  wXdbkFZsfDR7utJvbWElyA   \n",
       "150002  tkrD0V2SPAUi7BGBJ5cCZA  QWbqFXj_Tx_tc98AFTYkQA   \n",
       "150003  yRVOJluGeb5sBnCXN0K80A  w7oU_1aKc1rluXIOhtV2wA   \n",
       "150004  8xz9wueeuC6rVgDorKoUOA  GXfHd3ZuJZ8E7YYwD0cyUg   \n",
       "\n",
       "                   business_id  stars  useful  funny  cool  \\\n",
       "150000  vUrTGX_7HxqeoQ_6QCVz6g      5       0      0     0   \n",
       "150001  XX2PSfT4xuHq0yuoPIge1A      5       0      0     0   \n",
       "150002  CKgsvMxnFVoph6IluQevWg      5       0      0     0   \n",
       "150003  tQ6VNQ9ezkxRE4bvu9WShQ      1       0      0     0   \n",
       "150004  JUlsvVAvZvGHWFfkKm0nlg      5       3      0     2   \n",
       "\n",
       "                                                     text                date  \n",
       "150000  Awesome for Philly to have such a delicious an... 2018-01-28 20:32:57  \n",
       "150001  This is the third of the 5 local (soon to be 6... 2018-03-03 11:15:52  \n",
       "150002  I am from New York. The hand tossed pizza at M... 2016-02-08 04:33:32  \n",
       "150003  We were greeted fast.  It went downhill from t... 2014-07-23 02:30:52  \n",
       "150004  This restaurant is located right across from P... 2016-02-06 23:27:30  "
      ]
     },
     "execution_count": 106,
     "metadata": {},
     "output_type": "execute_result"
    }
   ],
   "source": [
    "second_chunk_df5.head()"
   ]
  },
  {
   "cell_type": "markdown",
   "metadata": {},
   "source": [
    "- review_id: The unique identifier assigned to the review\n",
    "- user_id: The unique identifier for the user who wrote the review\n",
    "- business_id: The unique identifier for the business being reviewed\n",
    "- stars: The star rating given by the user for the business, on a scale of 1 to 5\n",
    "- useful: The number of times this review has been marked as useful by other users\n",
    "- funny: The number of times this review has been marked as funny by other users\n",
    "- cool: The number of times this review has been marked as cool by other users\n",
    "- text: The text of the review, providing the user's feedback on the business\n",
    "- date: The date and time when the review was posted"
   ]
  },
  {
   "cell_type": "markdown",
   "metadata": {},
   "source": [
    "## Merging"
   ]
  },
  {
   "cell_type": "code",
   "execution_count": 107,
   "metadata": {},
   "outputs": [],
   "source": [
    "# merge df1 and df3\n",
    "merged_df1_df3 = pd.merge(df1.iloc[:150000], df3.iloc[:150000], on='business_id')"
   ]
  },
  {
   "cell_type": "code",
   "execution_count": 129,
   "metadata": {},
   "outputs": [
    {
     "data": {
      "text/html": [
       "<div>\n",
       "<style scoped>\n",
       "    .dataframe tbody tr th:only-of-type {\n",
       "        vertical-align: middle;\n",
       "    }\n",
       "\n",
       "    .dataframe tbody tr th {\n",
       "        vertical-align: top;\n",
       "    }\n",
       "\n",
       "    .dataframe thead th {\n",
       "        text-align: right;\n",
       "    }\n",
       "</style>\n",
       "<table border=\"1\" class=\"dataframe\">\n",
       "  <thead>\n",
       "    <tr style=\"text-align: right;\">\n",
       "      <th></th>\n",
       "      <th>business_id</th>\n",
       "      <th>name</th>\n",
       "      <th>address</th>\n",
       "      <th>city</th>\n",
       "      <th>state</th>\n",
       "      <th>postal_code</th>\n",
       "      <th>latitude</th>\n",
       "      <th>longitude</th>\n",
       "      <th>stars</th>\n",
       "      <th>review_count</th>\n",
       "      <th>is_open</th>\n",
       "      <th>attributes</th>\n",
       "      <th>categories</th>\n",
       "      <th>hours</th>\n",
       "      <th>user_id</th>\n",
       "      <th>text</th>\n",
       "      <th>date</th>\n",
       "      <th>compliment_count</th>\n",
       "    </tr>\n",
       "  </thead>\n",
       "  <tbody>\n",
       "    <tr>\n",
       "      <th>0</th>\n",
       "      <td>mpf3x-BjTdTEA3yCZrAYPw</td>\n",
       "      <td>The UPS Store</td>\n",
       "      <td>87 Grasso Plaza Shopping Center</td>\n",
       "      <td>Affton</td>\n",
       "      <td>MO</td>\n",
       "      <td>63123</td>\n",
       "      <td>38.551126</td>\n",
       "      <td>-90.335695</td>\n",
       "      <td>3.0</td>\n",
       "      <td>15</td>\n",
       "      <td>1</td>\n",
       "      <td>{'BusinessAcceptsCreditCards': 'True'}</td>\n",
       "      <td>Shipping Centers, Local Services, Notaries, Ma...</td>\n",
       "      <td>{'Monday': '0:0-0:0', 'Tuesday': '8:0-18:30', ...</td>\n",
       "      <td>trf3Qcz8qvCDKXiTgjUcEg</td>\n",
       "      <td>Dropping off my Amazon return.</td>\n",
       "      <td>2011-12-12 23:30:26</td>\n",
       "      <td>0</td>\n",
       "    </tr>\n",
       "    <tr>\n",
       "      <th>1</th>\n",
       "      <td>tUFrWirKiKi_TAnsVWINQQ</td>\n",
       "      <td>Target</td>\n",
       "      <td>5255 E Broadway Blvd</td>\n",
       "      <td>Tucson</td>\n",
       "      <td>AZ</td>\n",
       "      <td>85711</td>\n",
       "      <td>32.223236</td>\n",
       "      <td>-110.880452</td>\n",
       "      <td>3.5</td>\n",
       "      <td>22</td>\n",
       "      <td>0</td>\n",
       "      <td>{'BikeParking': 'True', 'BusinessAcceptsCredit...</td>\n",
       "      <td>Department Stores, Shopping, Fashion, Home &amp; G...</td>\n",
       "      <td>{'Monday': '8:0-22:0', 'Tuesday': '8:0-22:0', ...</td>\n",
       "      <td>_5swqa5xUdLar-Q-bBZSDA</td>\n",
       "      <td>Containers!</td>\n",
       "      <td>2012-03-29 18:47:55</td>\n",
       "      <td>0</td>\n",
       "    </tr>\n",
       "    <tr>\n",
       "      <th>2</th>\n",
       "      <td>tUFrWirKiKi_TAnsVWINQQ</td>\n",
       "      <td>Target</td>\n",
       "      <td>5255 E Broadway Blvd</td>\n",
       "      <td>Tucson</td>\n",
       "      <td>AZ</td>\n",
       "      <td>85711</td>\n",
       "      <td>32.223236</td>\n",
       "      <td>-110.880452</td>\n",
       "      <td>3.5</td>\n",
       "      <td>22</td>\n",
       "      <td>0</td>\n",
       "      <td>{'BikeParking': 'True', 'BusinessAcceptsCredit...</td>\n",
       "      <td>Department Stores, Shopping, Fashion, Home &amp; G...</td>\n",
       "      <td>{'Monday': '8:0-22:0', 'Tuesday': '8:0-22:0', ...</td>\n",
       "      <td>oAvO0BOHOagOI7WVGXlWSA</td>\n",
       "      <td>This place looks the same as other target at c...</td>\n",
       "      <td>2012-12-11 02:50:41</td>\n",
       "      <td>0</td>\n",
       "    </tr>\n",
       "    <tr>\n",
       "      <th>3</th>\n",
       "      <td>tUFrWirKiKi_TAnsVWINQQ</td>\n",
       "      <td>Target</td>\n",
       "      <td>5255 E Broadway Blvd</td>\n",
       "      <td>Tucson</td>\n",
       "      <td>AZ</td>\n",
       "      <td>85711</td>\n",
       "      <td>32.223236</td>\n",
       "      <td>-110.880452</td>\n",
       "      <td>3.5</td>\n",
       "      <td>22</td>\n",
       "      <td>0</td>\n",
       "      <td>{'BikeParking': 'True', 'BusinessAcceptsCredit...</td>\n",
       "      <td>Department Stores, Shopping, Fashion, Home &amp; G...</td>\n",
       "      <td>{'Monday': '8:0-22:0', 'Tuesday': '8:0-22:0', ...</td>\n",
       "      <td>moSLKqdFUI-B80vun67UfQ</td>\n",
       "      <td>clean just stopped for some pens, not to busy ...</td>\n",
       "      <td>2014-09-21 23:01:02</td>\n",
       "      <td>0</td>\n",
       "    </tr>\n",
       "    <tr>\n",
       "      <th>4</th>\n",
       "      <td>MTSW4McQd7CbVtyjqoe9mw</td>\n",
       "      <td>St Honore Pastries</td>\n",
       "      <td>935 Race St</td>\n",
       "      <td>Philadelphia</td>\n",
       "      <td>PA</td>\n",
       "      <td>19107</td>\n",
       "      <td>39.955505</td>\n",
       "      <td>-75.155564</td>\n",
       "      <td>4.0</td>\n",
       "      <td>80</td>\n",
       "      <td>1</td>\n",
       "      <td>{'RestaurantsDelivery': 'False', 'OutdoorSeati...</td>\n",
       "      <td>Restaurants, Food, Bubble Tea, Coffee &amp; Tea, B...</td>\n",
       "      <td>{'Monday': '7:0-20:0', 'Tuesday': '7:0-20:0', ...</td>\n",
       "      <td>WqeE5e5ROfaVEgkb9dAkiQ</td>\n",
       "      <td>Love their pastries and drinks!</td>\n",
       "      <td>2017-09-20 17:00:27</td>\n",
       "      <td>0</td>\n",
       "    </tr>\n",
       "  </tbody>\n",
       "</table>\n",
       "</div>"
      ],
      "text/plain": [
       "              business_id                name  \\\n",
       "0  mpf3x-BjTdTEA3yCZrAYPw       The UPS Store   \n",
       "1  tUFrWirKiKi_TAnsVWINQQ              Target   \n",
       "2  tUFrWirKiKi_TAnsVWINQQ              Target   \n",
       "3  tUFrWirKiKi_TAnsVWINQQ              Target   \n",
       "4  MTSW4McQd7CbVtyjqoe9mw  St Honore Pastries   \n",
       "\n",
       "                           address          city state postal_code   latitude  \\\n",
       "0  87 Grasso Plaza Shopping Center        Affton    MO       63123  38.551126   \n",
       "1             5255 E Broadway Blvd        Tucson    AZ       85711  32.223236   \n",
       "2             5255 E Broadway Blvd        Tucson    AZ       85711  32.223236   \n",
       "3             5255 E Broadway Blvd        Tucson    AZ       85711  32.223236   \n",
       "4                      935 Race St  Philadelphia    PA       19107  39.955505   \n",
       "\n",
       "    longitude  stars  review_count  is_open  \\\n",
       "0  -90.335695    3.0            15        1   \n",
       "1 -110.880452    3.5            22        0   \n",
       "2 -110.880452    3.5            22        0   \n",
       "3 -110.880452    3.5            22        0   \n",
       "4  -75.155564    4.0            80        1   \n",
       "\n",
       "                                          attributes  \\\n",
       "0             {'BusinessAcceptsCreditCards': 'True'}   \n",
       "1  {'BikeParking': 'True', 'BusinessAcceptsCredit...   \n",
       "2  {'BikeParking': 'True', 'BusinessAcceptsCredit...   \n",
       "3  {'BikeParking': 'True', 'BusinessAcceptsCredit...   \n",
       "4  {'RestaurantsDelivery': 'False', 'OutdoorSeati...   \n",
       "\n",
       "                                          categories  \\\n",
       "0  Shipping Centers, Local Services, Notaries, Ma...   \n",
       "1  Department Stores, Shopping, Fashion, Home & G...   \n",
       "2  Department Stores, Shopping, Fashion, Home & G...   \n",
       "3  Department Stores, Shopping, Fashion, Home & G...   \n",
       "4  Restaurants, Food, Bubble Tea, Coffee & Tea, B...   \n",
       "\n",
       "                                               hours                 user_id  \\\n",
       "0  {'Monday': '0:0-0:0', 'Tuesday': '8:0-18:30', ...  trf3Qcz8qvCDKXiTgjUcEg   \n",
       "1  {'Monday': '8:0-22:0', 'Tuesday': '8:0-22:0', ...  _5swqa5xUdLar-Q-bBZSDA   \n",
       "2  {'Monday': '8:0-22:0', 'Tuesday': '8:0-22:0', ...  oAvO0BOHOagOI7WVGXlWSA   \n",
       "3  {'Monday': '8:0-22:0', 'Tuesday': '8:0-22:0', ...  moSLKqdFUI-B80vun67UfQ   \n",
       "4  {'Monday': '7:0-20:0', 'Tuesday': '7:0-20:0', ...  WqeE5e5ROfaVEgkb9dAkiQ   \n",
       "\n",
       "                                                text                date  \\\n",
       "0                     Dropping off my Amazon return. 2011-12-12 23:30:26   \n",
       "1                                        Containers! 2012-03-29 18:47:55   \n",
       "2  This place looks the same as other target at c... 2012-12-11 02:50:41   \n",
       "3  clean just stopped for some pens, not to busy ... 2014-09-21 23:01:02   \n",
       "4                    Love their pastries and drinks! 2017-09-20 17:00:27   \n",
       "\n",
       "   compliment_count  \n",
       "0                 0  \n",
       "1                 0  \n",
       "2                 0  \n",
       "3                 0  \n",
       "4                 0  "
      ]
     },
     "execution_count": 129,
     "metadata": {},
     "output_type": "execute_result"
    }
   ],
   "source": [
    "merged_df1_df3.head(5)"
   ]
  },
  {
   "cell_type": "code",
   "execution_count": 131,
   "metadata": {},
   "outputs": [
    {
     "ename": "NameError",
     "evalue": "name 'map_text_to_category' is not defined",
     "output_type": "error",
     "traceback": [
      "\u001b[1;31m---------------------------------------------------------------------------\u001b[0m",
      "\u001b[1;31mNameError\u001b[0m                                 Traceback (most recent call last)",
      "Cell \u001b[1;32mIn[131], line 2\u001b[0m\n\u001b[0;32m      1\u001b[0m \u001b[38;5;66;03m# Apply the mapping function to the 'text' column of merged_df1_df3\u001b[39;00m\n\u001b[1;32m----> 2\u001b[0m merged_df1_df3[\u001b[38;5;124m'\u001b[39m\u001b[38;5;124mBroad Category\u001b[39m\u001b[38;5;124m'\u001b[39m] \u001b[38;5;241m=\u001b[39m merged_df1_df3[\u001b[38;5;124m'\u001b[39m\u001b[38;5;124mtext\u001b[39m\u001b[38;5;124m'\u001b[39m]\u001b[38;5;241m.\u001b[39mapply(\u001b[43mmap_text_to_category\u001b[49m)\n\u001b[0;32m      4\u001b[0m \u001b[38;5;66;03m# Display the first few rows of the DataFrame to verify the new column\u001b[39;00m\n\u001b[0;32m      5\u001b[0m merged_df1_df3\u001b[38;5;241m.\u001b[39mhead()\n",
      "\u001b[1;31mNameError\u001b[0m: name 'map_text_to_category' is not defined"
     ]
    }
   ],
   "source": [
    "# Apply the mapping function to the 'text' column of merged_df1_df3\n",
    "merged_df1_df3['Broad Category'] = merged_df1_df3['text'].apply(map_text_to_category)\n",
    "\n",
    "# Display the first few rows of the DataFrame to verify the new column\n",
    "merged_df1_df3.head()\n"
   ]
  },
  {
   "cell_type": "code",
   "execution_count": 148,
   "metadata": {},
   "outputs": [
    {
     "data": {
      "text/html": [
       "<div>\n",
       "<style scoped>\n",
       "    .dataframe tbody tr th:only-of-type {\n",
       "        vertical-align: middle;\n",
       "    }\n",
       "\n",
       "    .dataframe tbody tr th {\n",
       "        vertical-align: top;\n",
       "    }\n",
       "\n",
       "    .dataframe thead th {\n",
       "        text-align: right;\n",
       "    }\n",
       "</style>\n",
       "<table border=\"1\" class=\"dataframe\">\n",
       "  <thead>\n",
       "    <tr style=\"text-align: right;\">\n",
       "      <th></th>\n",
       "      <th>business_id</th>\n",
       "      <th>name</th>\n",
       "      <th>address</th>\n",
       "      <th>city</th>\n",
       "      <th>state</th>\n",
       "      <th>postal_code</th>\n",
       "      <th>latitude</th>\n",
       "      <th>longitude</th>\n",
       "      <th>stars</th>\n",
       "      <th>review_count</th>\n",
       "      <th>is_open</th>\n",
       "      <th>attributes</th>\n",
       "      <th>categories</th>\n",
       "      <th>hours</th>\n",
       "      <th>user_id</th>\n",
       "      <th>text</th>\n",
       "      <th>date</th>\n",
       "      <th>compliment_count</th>\n",
       "      <th>Broad Category</th>\n",
       "      <th>Combined Info</th>\n",
       "    </tr>\n",
       "  </thead>\n",
       "  <tbody>\n",
       "    <tr>\n",
       "      <th>0</th>\n",
       "      <td>mpf3x-BjTdTEA3yCZrAYPw</td>\n",
       "      <td>The UPS Store</td>\n",
       "      <td>87 Grasso Plaza Shopping Center</td>\n",
       "      <td>Affton</td>\n",
       "      <td>MO</td>\n",
       "      <td>63123</td>\n",
       "      <td>38.551126</td>\n",
       "      <td>-90.335695</td>\n",
       "      <td>3.0</td>\n",
       "      <td>15</td>\n",
       "      <td>1</td>\n",
       "      <td>{'BusinessAcceptsCreditCards': 'True'}</td>\n",
       "      <td>Shipping Centers, Local Services, Notaries, Ma...</td>\n",
       "      <td>{'Monday': '0:0-0:0', 'Tuesday': '8:0-18:30', ...</td>\n",
       "      <td>trf3Qcz8qvCDKXiTgjUcEg</td>\n",
       "      <td>Dropping off my Amazon return.</td>\n",
       "      <td>2011-12-12 23:30:26</td>\n",
       "      <td>0</td>\n",
       "      <td>Other</td>\n",
       "      <td>Shipping Centers, Local Services, Notaries, Ma...</td>\n",
       "    </tr>\n",
       "    <tr>\n",
       "      <th>1</th>\n",
       "      <td>tUFrWirKiKi_TAnsVWINQQ</td>\n",
       "      <td>Target</td>\n",
       "      <td>5255 E Broadway Blvd</td>\n",
       "      <td>Tucson</td>\n",
       "      <td>AZ</td>\n",
       "      <td>85711</td>\n",
       "      <td>32.223236</td>\n",
       "      <td>-110.880452</td>\n",
       "      <td>3.5</td>\n",
       "      <td>22</td>\n",
       "      <td>0</td>\n",
       "      <td>{'BikeParking': 'True', 'BusinessAcceptsCredit...</td>\n",
       "      <td>Department Stores, Shopping, Fashion, Home &amp; G...</td>\n",
       "      <td>{'Monday': '8:0-22:0', 'Tuesday': '8:0-22:0', ...</td>\n",
       "      <td>_5swqa5xUdLar-Q-bBZSDA</td>\n",
       "      <td>Containers!</td>\n",
       "      <td>2012-03-29 18:47:55</td>\n",
       "      <td>0</td>\n",
       "      <td>Other</td>\n",
       "      <td>Department Stores, Shopping, Fashion, Home &amp; G...</td>\n",
       "    </tr>\n",
       "    <tr>\n",
       "      <th>2</th>\n",
       "      <td>tUFrWirKiKi_TAnsVWINQQ</td>\n",
       "      <td>Target</td>\n",
       "      <td>5255 E Broadway Blvd</td>\n",
       "      <td>Tucson</td>\n",
       "      <td>AZ</td>\n",
       "      <td>85711</td>\n",
       "      <td>32.223236</td>\n",
       "      <td>-110.880452</td>\n",
       "      <td>3.5</td>\n",
       "      <td>22</td>\n",
       "      <td>0</td>\n",
       "      <td>{'BikeParking': 'True', 'BusinessAcceptsCredit...</td>\n",
       "      <td>Department Stores, Shopping, Fashion, Home &amp; G...</td>\n",
       "      <td>{'Monday': '8:0-22:0', 'Tuesday': '8:0-22:0', ...</td>\n",
       "      <td>oAvO0BOHOagOI7WVGXlWSA</td>\n",
       "      <td>This place looks the same as other target at c...</td>\n",
       "      <td>2012-12-11 02:50:41</td>\n",
       "      <td>0</td>\n",
       "      <td>Retail, Food and Beverages</td>\n",
       "      <td>Department Stores, Shopping, Fashion, Home &amp; G...</td>\n",
       "    </tr>\n",
       "    <tr>\n",
       "      <th>3</th>\n",
       "      <td>tUFrWirKiKi_TAnsVWINQQ</td>\n",
       "      <td>Target</td>\n",
       "      <td>5255 E Broadway Blvd</td>\n",
       "      <td>Tucson</td>\n",
       "      <td>AZ</td>\n",
       "      <td>85711</td>\n",
       "      <td>32.223236</td>\n",
       "      <td>-110.880452</td>\n",
       "      <td>3.5</td>\n",
       "      <td>22</td>\n",
       "      <td>0</td>\n",
       "      <td>{'BikeParking': 'True', 'BusinessAcceptsCredit...</td>\n",
       "      <td>Department Stores, Shopping, Fashion, Home &amp; G...</td>\n",
       "      <td>{'Monday': '8:0-22:0', 'Tuesday': '8:0-22:0', ...</td>\n",
       "      <td>moSLKqdFUI-B80vun67UfQ</td>\n",
       "      <td>clean just stopped for some pens, not to busy ...</td>\n",
       "      <td>2014-09-21 23:01:02</td>\n",
       "      <td>0</td>\n",
       "      <td>Other</td>\n",
       "      <td>Department Stores, Shopping, Fashion, Home &amp; G...</td>\n",
       "    </tr>\n",
       "    <tr>\n",
       "      <th>4</th>\n",
       "      <td>MTSW4McQd7CbVtyjqoe9mw</td>\n",
       "      <td>St Honore Pastries</td>\n",
       "      <td>935 Race St</td>\n",
       "      <td>Philadelphia</td>\n",
       "      <td>PA</td>\n",
       "      <td>19107</td>\n",
       "      <td>39.955505</td>\n",
       "      <td>-75.155564</td>\n",
       "      <td>4.0</td>\n",
       "      <td>80</td>\n",
       "      <td>1</td>\n",
       "      <td>{'RestaurantsDelivery': 'False', 'OutdoorSeati...</td>\n",
       "      <td>Restaurants, Food, Bubble Tea, Coffee &amp; Tea, B...</td>\n",
       "      <td>{'Monday': '7:0-20:0', 'Tuesday': '7:0-20:0', ...</td>\n",
       "      <td>WqeE5e5ROfaVEgkb9dAkiQ</td>\n",
       "      <td>Love their pastries and drinks!</td>\n",
       "      <td>2017-09-20 17:00:27</td>\n",
       "      <td>0</td>\n",
       "      <td>Food and Beverages</td>\n",
       "      <td>Restaurants, Food, Bubble Tea, Coffee &amp; Tea, B...</td>\n",
       "    </tr>\n",
       "  </tbody>\n",
       "</table>\n",
       "</div>"
      ],
      "text/plain": [
       "              business_id                name  \\\n",
       "0  mpf3x-BjTdTEA3yCZrAYPw       The UPS Store   \n",
       "1  tUFrWirKiKi_TAnsVWINQQ              Target   \n",
       "2  tUFrWirKiKi_TAnsVWINQQ              Target   \n",
       "3  tUFrWirKiKi_TAnsVWINQQ              Target   \n",
       "4  MTSW4McQd7CbVtyjqoe9mw  St Honore Pastries   \n",
       "\n",
       "                           address          city state postal_code   latitude  \\\n",
       "0  87 Grasso Plaza Shopping Center        Affton    MO       63123  38.551126   \n",
       "1             5255 E Broadway Blvd        Tucson    AZ       85711  32.223236   \n",
       "2             5255 E Broadway Blvd        Tucson    AZ       85711  32.223236   \n",
       "3             5255 E Broadway Blvd        Tucson    AZ       85711  32.223236   \n",
       "4                      935 Race St  Philadelphia    PA       19107  39.955505   \n",
       "\n",
       "    longitude  stars  review_count  is_open  \\\n",
       "0  -90.335695    3.0            15        1   \n",
       "1 -110.880452    3.5            22        0   \n",
       "2 -110.880452    3.5            22        0   \n",
       "3 -110.880452    3.5            22        0   \n",
       "4  -75.155564    4.0            80        1   \n",
       "\n",
       "                                          attributes  \\\n",
       "0             {'BusinessAcceptsCreditCards': 'True'}   \n",
       "1  {'BikeParking': 'True', 'BusinessAcceptsCredit...   \n",
       "2  {'BikeParking': 'True', 'BusinessAcceptsCredit...   \n",
       "3  {'BikeParking': 'True', 'BusinessAcceptsCredit...   \n",
       "4  {'RestaurantsDelivery': 'False', 'OutdoorSeati...   \n",
       "\n",
       "                                          categories  \\\n",
       "0  Shipping Centers, Local Services, Notaries, Ma...   \n",
       "1  Department Stores, Shopping, Fashion, Home & G...   \n",
       "2  Department Stores, Shopping, Fashion, Home & G...   \n",
       "3  Department Stores, Shopping, Fashion, Home & G...   \n",
       "4  Restaurants, Food, Bubble Tea, Coffee & Tea, B...   \n",
       "\n",
       "                                               hours                 user_id  \\\n",
       "0  {'Monday': '0:0-0:0', 'Tuesday': '8:0-18:30', ...  trf3Qcz8qvCDKXiTgjUcEg   \n",
       "1  {'Monday': '8:0-22:0', 'Tuesday': '8:0-22:0', ...  _5swqa5xUdLar-Q-bBZSDA   \n",
       "2  {'Monday': '8:0-22:0', 'Tuesday': '8:0-22:0', ...  oAvO0BOHOagOI7WVGXlWSA   \n",
       "3  {'Monday': '8:0-22:0', 'Tuesday': '8:0-22:0', ...  moSLKqdFUI-B80vun67UfQ   \n",
       "4  {'Monday': '7:0-20:0', 'Tuesday': '7:0-20:0', ...  WqeE5e5ROfaVEgkb9dAkiQ   \n",
       "\n",
       "                                                text                date  \\\n",
       "0                     Dropping off my Amazon return. 2011-12-12 23:30:26   \n",
       "1                                        Containers! 2012-03-29 18:47:55   \n",
       "2  This place looks the same as other target at c... 2012-12-11 02:50:41   \n",
       "3  clean just stopped for some pens, not to busy ... 2014-09-21 23:01:02   \n",
       "4                    Love their pastries and drinks! 2017-09-20 17:00:27   \n",
       "\n",
       "   compliment_count              Broad Category  \\\n",
       "0                 0                       Other   \n",
       "1                 0                       Other   \n",
       "2                 0  Retail, Food and Beverages   \n",
       "3                 0                       Other   \n",
       "4                 0          Food and Beverages   \n",
       "\n",
       "                                       Combined Info  \n",
       "0  Shipping Centers, Local Services, Notaries, Ma...  \n",
       "1  Department Stores, Shopping, Fashion, Home & G...  \n",
       "2  Department Stores, Shopping, Fashion, Home & G...  \n",
       "3  Department Stores, Shopping, Fashion, Home & G...  \n",
       "4  Restaurants, Food, Bubble Tea, Coffee & Tea, B...  "
      ]
     },
     "execution_count": 148,
     "metadata": {},
     "output_type": "execute_result"
    }
   ],
   "source": [
    "# Updated mapping dictionary with the \"Fashion\" category\n",
    "text_category_keywords = {\n",
    "    \"Retail\": [\n",
    "        'store', 'shopping', 'department', 'merchandise', 'retail', 'shop', 'outlet', 'boutique', 'mall',\n",
    "        'marketplace', 'goods', 'products'\n",
    "    ],\n",
    "    \"Food and Beverages\": [\n",
    "        'restaurant', 'eatery', 'cafe', 'bakery', 'dining', 'food', 'drink', 'coffee', 'tea', 'bar', 'grill', 'diner',\n",
    "        'bistro', 'kitchen', 'pastry', 'cuisine', 'meal', 'menu'\n",
    "    ],\n",
    "    \"Services\": [\n",
    "        'service', 'shipping', 'notary', 'mailbox', 'repair', 'laundry', 'cleaning', 'maintenance', 'consulting',\n",
    "        'legal', 'financial', 'insurance', 'healthcare', 'therapy', 'counseling'\n",
    "    ],\n",
    "    \"Health and Beauty\": [\n",
    "        'spa', 'salon', 'gym', 'fitness', 'health', 'beauty', 'medical', 'wellness', 'clinic', 'cosmetic', 'hair', 'nail',\n",
    "        'yoga', 'pilates', 'therapy', 'treatment', 'massage', 'skincare'\n",
    "    ],\n",
    "    \"Entertainment and Leisure\": [\n",
    "        'movie', 'theater', 'park', 'museum', 'entertainment', 'leisure', 'recreation', 'amusement', 'concert', 'gallery',\n",
    "        'exhibit', 'festival', 'event', 'attraction', 'sightseeing'\n",
    "    ],\n",
    "    \"Automotive\": [\n",
    "        'auto', 'car', 'vehicle', 'repair', 'dealership', 'mechanic', 'garage', 'maintenance', 'parts', 'service', 'oil',\n",
    "        'tire', 'detailing', 'bodywork', 'wash'\n",
    "    ],\n",
    "    \"Education\": [\n",
    "        'school', 'education', 'tutoring', 'learning', 'class', 'course', 'university', 'college', 'institute', 'seminar',\n",
    "        'workshop', 'training', 'academy', 'study', 'scholarship'\n",
    "    ],\n",
    "    \"Fashion\": [\n",
    "        'ashion', 'apparel', 'clothing', 'accessories', 'style', 'boutique', 'designer', 'footwear', 'shoes', 'jewelry',\n",
    "        'trend', 'outfit', 'wardrobe', 'collection', 'wear'\n",
    "    ]\n",
    "}\n",
    "\n",
    "# The mapping function remains the same\n",
    "def map_text_to_category(text):\n",
    "    lower_text = text.lower()  # Convert text to lowercase for case-insensitive matching\n",
    "    assigned_categories = []\n",
    "    for broad_category, keywords in text_category_keywords.items():\n",
    "        if any(keyword in lower_text for keyword in keywords):\n",
    "            assigned_categories.append(broad_category)\n",
    "    \n",
    "    # Handle cases where the text does not clearly fit into any predefined category\n",
    "    if not assigned_categories:\n",
    "        assigned_categories.append(\"Other\")\n",
    "    \n",
    "    return ', '.join(assigned_categories)\n",
    "\n",
    "# Apply the mapping function to the 'text' column of merged_df1_df3 as before\n",
    "merged_df1_df3['Broad Category'] = merged_df1_df3['text'].apply(map_text_to_category)\n",
    "\n",
    "# Display the first few rows to verify the new column\n",
    "merged_df1_df3.head()"
   ]
  },
  {
   "cell_type": "code",
   "execution_count": 149,
   "metadata": {},
   "outputs": [
    {
     "data": {
      "text/plain": [
       "Broad Category\n",
       "Other                                                                                   98515\n",
       "Food and Beverages                                                                      23346\n",
       "Services, Automotive                                                                     4451\n",
       "Food and Beverages, Services, Automotive                                                 3847\n",
       "Automotive                                                                               3788\n",
       "                                                                                        ...  \n",
       "Services, Health and Beauty, Automotive, Education                                          1\n",
       "Food and Beverages, Health and Beauty, Automotive, Fashion                                  1\n",
       "Services, Entertainment and Leisure, Automotive, Education                                  1\n",
       "Retail, Services, Entertainment and Leisure                                                 1\n",
       "Retail, Food and Beverages, Health and Beauty, Entertainment and Leisure, Automotive        1\n",
       "Name: count, Length: 125, dtype: int64"
      ]
     },
     "execution_count": 149,
     "metadata": {},
     "output_type": "execute_result"
    }
   ],
   "source": [
    "profile_merged_df1_df3 = merged_df1_df3['Broad Category'].value_counts()\n",
    "profile_merged_df1_df3"
   ]
  },
  {
   "cell_type": "code",
   "execution_count": 108,
   "metadata": {},
   "outputs": [],
   "source": [
    "# Merge 'merged_df1_df3' with 'second_chunk_df4' on 'user_id', limiting to the first 150,000 rows\n",
    "merged_df1_df3_df5 = pd.merge(merged_df1_df3, second_chunk_df5.iloc[:150000], on='business_id')"
   ]
  },
  {
   "cell_type": "code",
   "execution_count": 109,
   "metadata": {},
   "outputs": [
    {
     "data": {
      "text/plain": [
       "Index(['business_id', 'name', 'address', 'city', 'state', 'postal_code',\n",
       "       'latitude', 'longitude', 'stars_x', 'review_count', 'is_open',\n",
       "       'attributes', 'categories', 'hours', 'user_id_x', 'text_x', 'date_x',\n",
       "       'compliment_count', 'review_id', 'user_id_y', 'stars_y', 'useful',\n",
       "       'funny', 'cool', 'text_y', 'date_y'],\n",
       "      dtype='object')"
      ]
     },
     "execution_count": 109,
     "metadata": {},
     "output_type": "execute_result"
    }
   ],
   "source": [
    "merged_df1_df3_df5.columns"
   ]
  },
  {
   "cell_type": "code",
   "execution_count": 110,
   "metadata": {},
   "outputs": [
    {
     "data": {
      "text/plain": [
       "Index(['user_id', 'name', 'review_count', 'yelping_since', 'useful', 'funny',\n",
       "       'cool', 'elite', 'friends', 'fans', 'average_stars', 'compliment_hot',\n",
       "       'compliment_more', 'compliment_profile', 'compliment_cute',\n",
       "       'compliment_list', 'compliment_note', 'compliment_plain',\n",
       "       'compliment_cool', 'compliment_funny', 'compliment_writer',\n",
       "       'compliment_photos'],\n",
       "      dtype='object')"
      ]
     },
     "execution_count": 110,
     "metadata": {},
     "output_type": "execute_result"
    }
   ],
   "source": [
    "second_chunk_df4.columns"
   ]
  },
  {
   "cell_type": "code",
   "execution_count": 111,
   "metadata": {},
   "outputs": [],
   "source": [
    "merged_df1_df3_df5 = merged_df1_df3.rename(columns={'user_id_y': 'user_id'})"
   ]
  },
  {
   "cell_type": "code",
   "execution_count": 112,
   "metadata": {},
   "outputs": [
    {
     "data": {
      "text/html": [
       "<div>\n",
       "<style scoped>\n",
       "    .dataframe tbody tr th:only-of-type {\n",
       "        vertical-align: middle;\n",
       "    }\n",
       "\n",
       "    .dataframe tbody tr th {\n",
       "        vertical-align: top;\n",
       "    }\n",
       "\n",
       "    .dataframe thead th {\n",
       "        text-align: right;\n",
       "    }\n",
       "</style>\n",
       "<table border=\"1\" class=\"dataframe\">\n",
       "  <thead>\n",
       "    <tr style=\"text-align: right;\">\n",
       "      <th></th>\n",
       "      <th>business_id</th>\n",
       "      <th>name</th>\n",
       "      <th>address</th>\n",
       "      <th>city</th>\n",
       "      <th>state</th>\n",
       "      <th>postal_code</th>\n",
       "      <th>latitude</th>\n",
       "      <th>longitude</th>\n",
       "      <th>stars</th>\n",
       "      <th>review_count</th>\n",
       "      <th>is_open</th>\n",
       "      <th>attributes</th>\n",
       "      <th>categories</th>\n",
       "      <th>hours</th>\n",
       "      <th>user_id</th>\n",
       "      <th>text</th>\n",
       "      <th>date</th>\n",
       "      <th>compliment_count</th>\n",
       "    </tr>\n",
       "  </thead>\n",
       "  <tbody>\n",
       "    <tr>\n",
       "      <th>0</th>\n",
       "      <td>mpf3x-BjTdTEA3yCZrAYPw</td>\n",
       "      <td>The UPS Store</td>\n",
       "      <td>87 Grasso Plaza Shopping Center</td>\n",
       "      <td>Affton</td>\n",
       "      <td>MO</td>\n",
       "      <td>63123</td>\n",
       "      <td>38.551126</td>\n",
       "      <td>-90.335695</td>\n",
       "      <td>3.0</td>\n",
       "      <td>15</td>\n",
       "      <td>1</td>\n",
       "      <td>{'BusinessAcceptsCreditCards': 'True'}</td>\n",
       "      <td>Shipping Centers, Local Services, Notaries, Ma...</td>\n",
       "      <td>{'Monday': '0:0-0:0', 'Tuesday': '8:0-18:30', ...</td>\n",
       "      <td>trf3Qcz8qvCDKXiTgjUcEg</td>\n",
       "      <td>Dropping off my Amazon return.</td>\n",
       "      <td>2011-12-12 23:30:26</td>\n",
       "      <td>0</td>\n",
       "    </tr>\n",
       "  </tbody>\n",
       "</table>\n",
       "</div>"
      ],
      "text/plain": [
       "              business_id           name                          address  \\\n",
       "0  mpf3x-BjTdTEA3yCZrAYPw  The UPS Store  87 Grasso Plaza Shopping Center   \n",
       "\n",
       "     city state postal_code   latitude  longitude  stars  review_count  \\\n",
       "0  Affton    MO       63123  38.551126 -90.335695    3.0            15   \n",
       "\n",
       "   is_open                              attributes  \\\n",
       "0        1  {'BusinessAcceptsCreditCards': 'True'}   \n",
       "\n",
       "                                          categories  \\\n",
       "0  Shipping Centers, Local Services, Notaries, Ma...   \n",
       "\n",
       "                                               hours                 user_id  \\\n",
       "0  {'Monday': '0:0-0:0', 'Tuesday': '8:0-18:30', ...  trf3Qcz8qvCDKXiTgjUcEg   \n",
       "\n",
       "                             text                date  compliment_count  \n",
       "0  Dropping off my Amazon return. 2011-12-12 23:30:26                 0  "
      ]
     },
     "execution_count": 112,
     "metadata": {},
     "output_type": "execute_result"
    }
   ],
   "source": [
    "merged_df1_df3_df5.head(1)"
   ]
  },
  {
   "cell_type": "code",
   "execution_count": 113,
   "metadata": {},
   "outputs": [],
   "source": [
    "# Merge the resulting 'merged_df1_df3_df4' with 'second_chunk_df5' on 'user_id', again limiting to the first 150,000 rows\n",
    "final_merged_df = pd.merge(merged_df1_df3_df5, second_chunk_df4.iloc[:150000], on='user_id')"
   ]
  },
  {
   "cell_type": "code",
   "execution_count": 114,
   "metadata": {},
   "outputs": [
    {
     "data": {
      "text/plain": [
       "Index(['business_id', 'name_x', 'address', 'city', 'state', 'postal_code',\n",
       "       'latitude', 'longitude', 'stars', 'review_count_x', 'is_open',\n",
       "       'attributes', 'categories', 'hours', 'user_id', 'text', 'date',\n",
       "       'compliment_count', 'name_y', 'review_count_y', 'yelping_since',\n",
       "       'useful', 'funny', 'cool', 'elite', 'friends', 'fans', 'average_stars',\n",
       "       'compliment_hot', 'compliment_more', 'compliment_profile',\n",
       "       'compliment_cute', 'compliment_list', 'compliment_note',\n",
       "       'compliment_plain', 'compliment_cool', 'compliment_funny',\n",
       "       'compliment_writer', 'compliment_photos'],\n",
       "      dtype='object')"
      ]
     },
     "execution_count": 114,
     "metadata": {},
     "output_type": "execute_result"
    }
   ],
   "source": [
    "final_merged_df.columns"
   ]
  }
 ],
 "metadata": {
  "kernelspec": {
   "display_name": "base",
   "language": "python",
   "name": "python3"
  },
  "language_info": {
   "codemirror_mode": {
    "name": "ipython",
    "version": 3
   },
   "file_extension": ".py",
   "mimetype": "text/x-python",
   "name": "python",
   "nbconvert_exporter": "python",
   "pygments_lexer": "ipython3",
   "version": "3.11.4"
  }
 },
 "nbformat": 4,
 "nbformat_minor": 2
}
